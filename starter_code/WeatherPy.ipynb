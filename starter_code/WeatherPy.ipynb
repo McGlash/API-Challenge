{
 "cells": [
  {
   "cell_type": "markdown",
   "metadata": {},
   "source": [
    "# WeatherPy\n",
    "----\n",
    "\n",
    "#### Note\n",
    "* Instructions have been included for each segment. You do not have to follow them exactly, but they are included to help you think through the steps."
   ]
  },
  {
   "cell_type": "code",
   "execution_count": 82,
   "metadata": {
    "scrolled": true
   },
   "outputs": [],
   "source": [
    "# Dependencies and Setup\n",
    "import matplotlib.pyplot as plt\n",
    "import pandas as pd\n",
    "import numpy as np\n",
    "import requests\n",
    "import time\n",
    "from scipy.stats import linregress\n",
    "\n",
    "# Import API key\n",
    "from api_keys import weather_api_key\n",
    "\n",
    "# Incorporated citipy to determine city based on latitude and longitude\n",
    "from citipy import citipy\n",
    "\n",
    "# Output File (CSV)\n",
    "output_data_file = \"../output_data/cities.csv\"\n",
    "\n",
    "# Range of latitudes and longitudes\n",
    "lat_range = (-90, 90)\n",
    "lng_range = (-180, 180)"
   ]
  },
  {
   "cell_type": "markdown",
   "metadata": {},
   "source": [
    "## Generate Cities List"
   ]
  },
  {
   "cell_type": "code",
   "execution_count": 83,
   "metadata": {},
   "outputs": [
    {
     "data": {
      "text/plain": [
       "611"
      ]
     },
     "execution_count": 83,
     "metadata": {},
     "output_type": "execute_result"
    }
   ],
   "source": [
    "# List for holding lat_lngs and cities\n",
    "lat_lngs = []\n",
    "cities = []\n",
    "\n",
    "# Create a set of random lat and lng combinations\n",
    "lats = np.random.uniform(lat_range[0], lat_range[1], size=1500)\n",
    "lngs = np.random.uniform(lng_range[0], lng_range[1], size=1500)\n",
    "lat_lngs = zip(lats, lngs)\n",
    "\n",
    "# Identify nearest city for each lat, lng combination\n",
    "for lat_lng in lat_lngs:\n",
    "    city = citipy.nearest_city(lat_lng[0], lat_lng[1]).city_name\n",
    "    \n",
    "    # If the city is unique, then add it to a our cities list\n",
    "    if city not in cities:\n",
    "        cities.append(city)\n",
    "\n",
    "# Print the city count to confirm sufficient count\n",
    "len(cities)\n",
    "\n"
   ]
  },
  {
   "cell_type": "markdown",
   "metadata": {},
   "source": [
    "### Perform API Calls\n",
    "* Perform a weather check on each city using a series of successive API calls.\n",
    "* Include a print log of each city as it'sbeing processed (with the city number and city name).\n"
   ]
  },
  {
   "cell_type": "code",
   "execution_count": null,
   "metadata": {},
   "outputs": [
    {
     "name": "stdout",
     "output_type": "stream",
     "text": [
      "Beginning Data Retrieval\n",
      "-----------------------------\n",
      "Processing Record 1 of set 1 | rikitea\n",
      "City not found . Skipping... taolanaro\n",
      "Processing Record 2 of set 1 | arraial do cabo\n",
      "Processing Record 3 of set 1 | kapaa\n",
      "Processing Record 4 of set 1 | lebu\n",
      "Processing Record 5 of set 1 | awjilah\n",
      "Processing Record 6 of set 1 | bredasdorp\n",
      "Processing Record 7 of set 1 | port alfred\n",
      "City not found . Skipping... mys shmidta\n",
      "Processing Record 8 of set 1 | lucapa\n",
      "Processing Record 9 of set 1 | castro\n",
      "Processing Record 10 of set 1 | marrakesh\n",
      "Processing Record 11 of set 1 | chuy\n",
      "Processing Record 12 of set 1 | emerald\n",
      "Processing Record 13 of set 1 | ushuaia\n",
      "Processing Record 14 of set 1 | ende\n",
      "Processing Record 15 of set 1 | dingle\n",
      "Processing Record 16 of set 1 | mar del plata\n",
      "Processing Record 17 of set 1 | thompson\n",
      "City not found . Skipping... tsihombe\n",
      "Processing Record 18 of set 1 | vaini\n",
      "Processing Record 19 of set 1 | lorengau\n",
      "Processing Record 20 of set 1 | puerto ayora\n",
      "Processing Record 21 of set 1 | scarborough\n",
      "Processing Record 22 of set 1 | san cristobal\n",
      "Processing Record 23 of set 1 | hobart\n",
      "Processing Record 24 of set 1 | qarchi gak\n",
      "Processing Record 25 of set 1 | atuona\n",
      "Processing Record 26 of set 1 | safford\n",
      "Processing Record 27 of set 1 | ribeira grande\n",
      "Processing Record 28 of set 1 | hilo\n",
      "Processing Record 29 of set 1 | lompoc\n",
      "City not found . Skipping... babanusah\n",
      "Processing Record 30 of set 1 | verkhovye\n",
      "Processing Record 31 of set 1 | ponta do sol\n",
      "Processing Record 32 of set 1 | saint-philippe\n",
      "Processing Record 33 of set 1 | chengde\n",
      "Processing Record 34 of set 1 | east london\n",
      "Processing Record 35 of set 1 | bilma\n",
      "Processing Record 36 of set 1 | port elizabeth\n",
      "Processing Record 37 of set 1 | mataura\n",
      "Processing Record 38 of set 1 | carnarvon\n",
      "Processing Record 39 of set 1 | tiksi\n",
      "Processing Record 40 of set 1 | el dorado\n",
      "Processing Record 41 of set 1 | pevek\n",
      "Processing Record 42 of set 1 | longyearbyen\n",
      "Processing Record 43 of set 1 | ciudad bolivar\n",
      "Processing Record 44 of set 1 | san jose\n",
      "Processing Record 45 of set 1 | san patricio\n",
      "Processing Record 46 of set 1 | matara\n",
      "Processing Record 47 of set 1 | new norfolk\n",
      "Processing Record 48 of set 1 | dikson\n",
      "Processing Record 49 of set 1 | bethel\n",
      "Processing Record 50 of set 1 | albany\n",
      "Processing Record 1 of set 2 | busselton\n",
      "Processing Record 2 of set 2 | qaanaaq\n",
      "Processing Record 3 of set 2 | khatanga\n",
      "Processing Record 4 of set 2 | funadhoo\n",
      "Processing Record 5 of set 2 | atambua\n",
      "Processing Record 6 of set 2 | kodiak\n",
      "Processing Record 7 of set 2 | sao goncalo dos campos\n",
      "Processing Record 8 of set 2 | lavrentiya\n",
      "Processing Record 9 of set 2 | agutaya\n",
      "Processing Record 10 of set 2 | kieta\n",
      "Processing Record 11 of set 2 | coquimbo\n",
      "Processing Record 12 of set 2 | yellowknife\n",
      "Processing Record 13 of set 2 | salalah\n",
      "Processing Record 14 of set 2 | isangel\n",
      "Processing Record 15 of set 2 | bluff\n",
      "Processing Record 16 of set 2 | bilibino\n",
      "City not found . Skipping... illoqqortoormiut\n",
      "Processing Record 17 of set 2 | barrow\n",
      "Processing Record 18 of set 2 | komsomolskiy\n",
      "Processing Record 19 of set 2 | zehdenick\n",
      "Processing Record 20 of set 2 | half moon bay\n",
      "Processing Record 21 of set 2 | hermanus\n",
      "Processing Record 22 of set 2 | san policarpo\n",
      "Processing Record 23 of set 2 | mangai\n",
      "Processing Record 24 of set 2 | jacareacanga\n",
      "Processing Record 25 of set 2 | napier\n",
      "Processing Record 26 of set 2 | phrae\n",
      "Processing Record 27 of set 2 | lakhdenpokhya\n",
      "Processing Record 28 of set 2 | alofi\n",
      "Processing Record 29 of set 2 | punta arenas\n",
      "Processing Record 30 of set 2 | klaksvik\n",
      "Processing Record 31 of set 2 | peniche\n",
      "Processing Record 32 of set 2 | tual\n",
      "Processing Record 33 of set 2 | puerto madryn\n",
      "City not found . Skipping... grand river south east\n",
      "City not found . Skipping... barentsburg\n",
      "Processing Record 34 of set 2 | khambhaliya\n",
      "Processing Record 35 of set 2 | kalengwa\n",
      "Processing Record 36 of set 2 | mana\n",
      "Processing Record 37 of set 2 | guiyang\n",
      "Processing Record 38 of set 2 | mitu\n",
      "City not found . Skipping... belushya guba\n",
      "Processing Record 39 of set 2 | nikolskoye\n",
      "Processing Record 40 of set 2 | orlik\n",
      "Processing Record 41 of set 2 | butaritari\n",
      "Processing Record 42 of set 2 | saskylakh\n",
      "Processing Record 43 of set 2 | mahebourg\n",
      "City not found . Skipping... ust-kamchatsk\n",
      "Processing Record 44 of set 2 | jamestown\n",
      "Processing Record 45 of set 2 | kutum\n",
      "Processing Record 46 of set 2 | dudinka\n",
      "Processing Record 47 of set 2 | ust-maya\n",
      "Processing Record 48 of set 2 | savantvadi\n",
      "Processing Record 49 of set 2 | airai\n",
      "Processing Record 50 of set 2 | buraydah\n",
      "Processing Record 1 of set 3 | bopfingen\n",
      "Processing Record 2 of set 3 | eidsvag\n",
      "Processing Record 3 of set 3 | gore\n",
      "Processing Record 4 of set 3 | faanui\n",
      "Processing Record 5 of set 3 | qasigiannguit\n",
      "Processing Record 6 of set 3 | tabou\n",
      "Processing Record 7 of set 3 | umuarama\n",
      "Processing Record 8 of set 3 | vestmannaeyjar\n",
      "Processing Record 9 of set 3 | henties bay\n",
      "Processing Record 10 of set 3 | los llanos de aridane\n",
      "Processing Record 11 of set 3 | coos bay\n",
      "Processing Record 12 of set 3 | semey\n",
      "Processing Record 13 of set 3 | sault sainte marie\n",
      "Processing Record 14 of set 3 | igarka\n",
      "Processing Record 15 of set 3 | tigil\n",
      "Processing Record 16 of set 3 | richards bay\n",
      "Processing Record 17 of set 3 | tuktoyaktuk\n",
      "Processing Record 18 of set 3 | campo maior\n",
      "Processing Record 19 of set 3 | vernon\n",
      "Processing Record 20 of set 3 | provideniya\n",
      "Processing Record 21 of set 3 | zyryanka\n",
      "Processing Record 22 of set 3 | ankara\n",
      "Processing Record 23 of set 3 | sambava\n",
      "Processing Record 24 of set 3 | sokoni\n",
      "Processing Record 25 of set 3 | margate\n",
      "Processing Record 26 of set 3 | adrar\n",
      "Processing Record 27 of set 3 | katsuura\n",
      "Processing Record 28 of set 3 | touros\n",
      "Processing Record 29 of set 3 | tuatapere\n",
      "Processing Record 30 of set 3 | grimshaw\n",
      "Processing Record 31 of set 3 | whitehorse\n",
      "Processing Record 32 of set 3 | kurumkan\n",
      "Processing Record 33 of set 3 | kiama\n",
      "Processing Record 34 of set 3 | saldanha\n",
      "Processing Record 35 of set 3 | spring valley\n",
      "Processing Record 36 of set 3 | leshukonskoye\n",
      "Processing Record 37 of set 3 | kruisfontein\n",
      "City not found . Skipping... rungata\n",
      "City not found . Skipping... amderma\n",
      "Processing Record 38 of set 3 | te anau\n",
      "Processing Record 39 of set 3 | mecca\n",
      "Processing Record 40 of set 3 | saint george\n",
      "Processing Record 41 of set 3 | balakhninskiy\n",
      "Processing Record 42 of set 3 | luderitz\n",
      "Processing Record 43 of set 3 | kendari\n",
      "Processing Record 44 of set 3 | snezhnogorsk\n",
      "Processing Record 45 of set 3 | dolores\n",
      "City not found . Skipping... zachagansk\n",
      "Processing Record 46 of set 3 | kermanshah\n",
      "Processing Record 47 of set 3 | bijie\n",
      "Processing Record 48 of set 3 | bambous virieux\n",
      "Processing Record 49 of set 3 | maniitsoq\n",
      "Processing Record 50 of set 3 | cape town\n",
      "Processing Record 1 of set 4 | trincomalee\n",
      "Processing Record 2 of set 4 | barcelona\n",
      "Processing Record 3 of set 4 | machaneng\n",
      "Processing Record 4 of set 4 | aswan\n",
      "Processing Record 5 of set 4 | vila velha\n",
      "Processing Record 6 of set 4 | dniprovka\n",
      "City not found . Skipping... tasbuget\n",
      "Processing Record 7 of set 4 | drabiv\n",
      "City not found . Skipping... nizhneyansk\n",
      "Processing Record 8 of set 4 | georgetown\n",
      "Processing Record 9 of set 4 | owando\n",
      "Processing Record 10 of set 4 | tasiilaq\n",
      "Processing Record 11 of set 4 | araouane\n",
      "Processing Record 12 of set 4 | atocha\n",
      "Processing Record 13 of set 4 | biltine\n",
      "Processing Record 14 of set 4 | harper\n",
      "City not found . Skipping... palabuhanratu\n",
      "Processing Record 15 of set 4 | laguna\n",
      "Processing Record 16 of set 4 | lagoa\n",
      "Processing Record 17 of set 4 | malinovoye ozero\n",
      "City not found . Skipping... aflu\n",
      "Processing Record 18 of set 4 | presidencia roque saenz pena\n",
      "Processing Record 19 of set 4 | sisophon\n",
      "Processing Record 20 of set 4 | catalao\n",
      "Processing Record 21 of set 4 | lhokseumawe\n",
      "Processing Record 22 of set 4 | sao filipe\n",
      "Processing Record 23 of set 4 | little current\n",
      "Processing Record 24 of set 4 | baijiantan\n",
      "Processing Record 25 of set 4 | kidal\n",
      "Processing Record 26 of set 4 | mbandaka\n",
      "City not found . Skipping... kazminskoye\n",
      "Processing Record 27 of set 4 | zemio\n",
      "City not found . Skipping... attawapiskat\n",
      "Processing Record 28 of set 4 | upernavik\n",
      "Processing Record 29 of set 4 | sinop\n"
     ]
    },
    {
     "name": "stdout",
     "output_type": "stream",
     "text": [
      "City not found . Skipping... samusu\n",
      "Processing Record 30 of set 4 | severo-kurilsk\n",
      "Processing Record 31 of set 4 | jiwani\n",
      "Processing Record 32 of set 4 | axim\n",
      "Processing Record 33 of set 4 | baghdad\n",
      "Processing Record 34 of set 4 | tula\n",
      "Processing Record 35 of set 4 | yulara\n",
      "Processing Record 36 of set 4 | avarua\n",
      "Processing Record 37 of set 4 | cayenne\n",
      "Processing Record 38 of set 4 | victoria\n",
      "Processing Record 39 of set 4 | sao joao da barra\n",
      "Processing Record 40 of set 4 | manicore\n",
      "Processing Record 41 of set 4 | papayal\n",
      "City not found . Skipping... tumannyy\n",
      "Processing Record 42 of set 4 | point fortin\n",
      "Processing Record 43 of set 4 | geraldton\n",
      "Processing Record 44 of set 4 | codrington\n",
      "Processing Record 45 of set 4 | antofagasta\n",
      "Processing Record 46 of set 4 | vaulx-en-velin\n",
      "Processing Record 47 of set 4 | beringovskiy\n",
      "Processing Record 48 of set 4 | college\n",
      "Processing Record 49 of set 4 | amapa\n",
      "Processing Record 50 of set 4 | kabanga\n",
      "Processing Record 1 of set 5 | dharan\n",
      "Processing Record 2 of set 5 | fort saint james\n",
      "Processing Record 3 of set 5 | nioro\n",
      "Processing Record 4 of set 5 | hamilton\n",
      "Processing Record 5 of set 5 | chicama\n",
      "City not found . Skipping... yeltsovka\n",
      "Processing Record 6 of set 5 | hambantota\n",
      "Processing Record 7 of set 5 | lerwick\n"
     ]
    }
   ],
   "source": [
    "#create urls components\n",
    "\n",
    "base_url= \"https://api.openweathermap.org/data/2.5/weather?\"\n",
    "\n",
    "key = f\"appid={weather_api_key}\"\n",
    "\n",
    "unit_query = f\"units=imperial\"\n",
    "\n",
    "#setup\n",
    "\n",
    "name =[]\n",
    "lat_cord =[]\n",
    "long_cord =[]\n",
    "max_temp =[]\n",
    "hum =[]\n",
    "cloud =[]\n",
    "wind =[]\n",
    "country =[]\n",
    "date =[]\n",
    "\n",
    "set_no = 1\n",
    "record_no = 0\n",
    "\n",
    "#perform API calls and display log\n",
    "\n",
    "print(\"Beginning Data Retrieval\\n-----------------------------\")\n",
    "    \n",
    "for city in cities:\n",
    "    \n",
    "    #tracking set\n",
    "    if record_no==50:\n",
    "        set_no+=1\n",
    "        record_no=0\n",
    "    else:\n",
    "        pass\n",
    "            \n",
    "     #make call\n",
    "    \n",
    "    pulls = requests.get(f\"{base_url}q={city}&{unit_query}&{key}\")\n",
    "\n",
    "    if pulls.status_code == 200:\n",
    "        \n",
    "        record_no+=1\n",
    "        \n",
    "        print(f\"Processing Record {record_no} of set {set_no} | {city}\")\n",
    "        \n",
    "        #pull data of interest\n",
    "        name.append(pulls.json()[\"name\"])\n",
    "        lat_cord.append(pulls.json()[\"coord\"][\"lat\"])\n",
    "        long_cord.append(pulls.json()[\"coord\"][\"lon\"])\n",
    "        max_temp.append(pulls.json()[\"main\"][\"temp_max\"])\n",
    "        hum.append(pulls.json()[\"main\"][\"humidity\"])\n",
    "        cloud.append(pulls.json()[\"clouds\"][\"all\"])\n",
    "        wind.append(pulls.json()[\"wind\"][\"speed\"])\n",
    "        country.append(pulls.json()[\"sys\"][\"country\"])\n",
    "        date.append(pulls.json()[\"dt\"])\n",
    "\n",
    "    elif pulls.status_code == 404: \n",
    "        print(f\"City not found . Skipping... {city}\")\n",
    "        \n",
    "    else:\n",
    "        print(\"error\")\n",
    "\n",
    "    # Add a one second interval between queries to stay within API query limits\n",
    "        time.sleep(1)\n",
    "\n",
    "print(\"-----------------------------\\nData Retrieval Complete\\n-----------------------------\")"
   ]
  },
  {
   "cell_type": "markdown",
   "metadata": {},
   "source": [
    "### Convert Raw Data to DataFrame\n",
    "* Export the city data into a .csv.\n",
    "* Display the DataFrame"
   ]
  },
  {
   "cell_type": "code",
   "execution_count": 76,
   "metadata": {},
   "outputs": [
    {
     "name": "stdout",
     "output_type": "stream",
     "text": [
      "City          20\n",
      "Lat           20\n",
      "Lng           20\n",
      "Max Temp      20\n",
      "Humidity      20\n",
      "Cloudiness    20\n",
      "Wind Speed    20\n",
      "Country       20\n",
      "Date          20\n",
      "dtype: int64\n"
     ]
    },
    {
     "data": {
      "text/html": [
       "<div>\n",
       "<style scoped>\n",
       "    .dataframe tbody tr th:only-of-type {\n",
       "        vertical-align: middle;\n",
       "    }\n",
       "\n",
       "    .dataframe tbody tr th {\n",
       "        vertical-align: top;\n",
       "    }\n",
       "\n",
       "    .dataframe thead th {\n",
       "        text-align: right;\n",
       "    }\n",
       "</style>\n",
       "<table border=\"1\" class=\"dataframe\">\n",
       "  <thead>\n",
       "    <tr style=\"text-align: right;\">\n",
       "      <th></th>\n",
       "      <th>City</th>\n",
       "      <th>Lat</th>\n",
       "      <th>Lng</th>\n",
       "      <th>Max Temp</th>\n",
       "      <th>Humidity</th>\n",
       "      <th>Cloudiness</th>\n",
       "      <th>Wind Speed</th>\n",
       "      <th>Country</th>\n",
       "      <th>Date</th>\n",
       "    </tr>\n",
       "  </thead>\n",
       "  <tbody>\n",
       "    <tr>\n",
       "      <th>0</th>\n",
       "      <td>Namatanai</td>\n",
       "      <td>-3.67</td>\n",
       "      <td>152.43</td>\n",
       "      <td>80.62</td>\n",
       "      <td>80</td>\n",
       "      <td>2</td>\n",
       "      <td>5.84</td>\n",
       "      <td>PG</td>\n",
       "      <td>1592514893</td>\n",
       "    </tr>\n",
       "    <tr>\n",
       "      <th>1</th>\n",
       "      <td>Ushuaia</td>\n",
       "      <td>-54.80</td>\n",
       "      <td>-68.30</td>\n",
       "      <td>35.60</td>\n",
       "      <td>69</td>\n",
       "      <td>26</td>\n",
       "      <td>4.70</td>\n",
       "      <td>AR</td>\n",
       "      <td>1592514950</td>\n",
       "    </tr>\n",
       "    <tr>\n",
       "      <th>2</th>\n",
       "      <td>Busselton</td>\n",
       "      <td>-33.65</td>\n",
       "      <td>115.33</td>\n",
       "      <td>39.00</td>\n",
       "      <td>98</td>\n",
       "      <td>49</td>\n",
       "      <td>3.18</td>\n",
       "      <td>AU</td>\n",
       "      <td>1592514800</td>\n",
       "    </tr>\n",
       "    <tr>\n",
       "      <th>3</th>\n",
       "      <td>Cândido Mendes</td>\n",
       "      <td>-1.45</td>\n",
       "      <td>-45.72</td>\n",
       "      <td>76.03</td>\n",
       "      <td>94</td>\n",
       "      <td>82</td>\n",
       "      <td>5.12</td>\n",
       "      <td>BR</td>\n",
       "      <td>1592514951</td>\n",
       "    </tr>\n",
       "    <tr>\n",
       "      <th>4</th>\n",
       "      <td>Balakhninskiy</td>\n",
       "      <td>58.01</td>\n",
       "      <td>114.28</td>\n",
       "      <td>50.16</td>\n",
       "      <td>81</td>\n",
       "      <td>2</td>\n",
       "      <td>1.48</td>\n",
       "      <td>RU</td>\n",
       "      <td>1592514951</td>\n",
       "    </tr>\n",
       "  </tbody>\n",
       "</table>\n",
       "</div>"
      ],
      "text/plain": [
       "             City    Lat     Lng  Max Temp  Humidity  Cloudiness  Wind Speed  \\\n",
       "0       Namatanai  -3.67  152.43     80.62        80           2        5.84   \n",
       "1         Ushuaia -54.80  -68.30     35.60        69          26        4.70   \n",
       "2       Busselton -33.65  115.33     39.00        98          49        3.18   \n",
       "3  Cândido Mendes  -1.45  -45.72     76.03        94          82        5.12   \n",
       "4   Balakhninskiy  58.01  114.28     50.16        81           2        1.48   \n",
       "\n",
       "  Country        Date  \n",
       "0      PG  1592514893  \n",
       "1      AR  1592514950  \n",
       "2      AU  1592514800  \n",
       "3      BR  1592514951  \n",
       "4      RU  1592514951  "
      ]
     },
     "execution_count": 76,
     "metadata": {},
     "output_type": "execute_result"
    }
   ],
   "source": [
    "# create dataframe \n",
    "city_data = pd.DataFrame(list(zip(name, \n",
    "                            lat_cord, \n",
    "                           long_cord, \n",
    "                           max_temp, \n",
    "                           hum, \n",
    "                           cloud, \n",
    "                           wind, \n",
    "                           country, \n",
    "                           date)), \n",
    "               columns =[\"City\", \n",
    "                         \"Lat\", \n",
    "                         \"Lng\", \n",
    "                         \"Max Temp\", \n",
    "                         \"Humidity\", \n",
    "                         \"Cloudiness\", \n",
    "                         \"Wind Speed\",\n",
    "                         \"Country\",\n",
    "                         \"Date\"]) \n",
    "\n",
    "#city_data.Index=(\"City_ID\", inplace=True)\n",
    "\n",
    "city_data.to_csv(output_data_file, index=True) \n",
    "\n",
    "print(city_data.count())\n",
    "\n",
    "city_data.head()"
   ]
  },
  {
   "cell_type": "markdown",
   "metadata": {},
   "source": [
    "## Inspect the data and remove the cities where the humidity > 100%.\n",
    "----\n",
    "Skip this step if there are no cities that have humidity > 100%. "
   ]
  },
  {
   "cell_type": "code",
   "execution_count": 65,
   "metadata": {},
   "outputs": [
    {
     "name": "stdout",
     "output_type": "stream",
     "text": [
      "Dataset does not contains cities with humidity above 100\n"
     ]
    }
   ],
   "source": [
    "if city_data[\"Humidity\"].max() > 100:\n",
    "    print(\"Dataset contains cities with humidity above 100\")\n",
    "else:\n",
    "    print(\"Dataset does not contains cities with humidity above 100\")"
   ]
  },
  {
   "cell_type": "code",
   "execution_count": 80,
   "metadata": {},
   "outputs": [
    {
     "data": {
      "text/plain": [
       "[]"
      ]
     },
     "execution_count": 80,
     "metadata": {},
     "output_type": "execute_result"
    }
   ],
   "source": [
    "#  Get the indices of cities that have humidity over 100%.\n",
    "\n",
    "indices_100plus_hum = city_data.loc[city_data[\"Humidity\"]>100,:].index.tolist()"
   ]
  },
  {
   "cell_type": "code",
   "execution_count": 81,
   "metadata": {},
   "outputs": [
    {
     "ename": "TypeError",
     "evalue": "'method' object is not subscriptable",
     "output_type": "error",
     "traceback": [
      "\u001b[1;31m---------------------------------------------------------------------------\u001b[0m",
      "\u001b[1;31mTypeError\u001b[0m                                 Traceback (most recent call last)",
      "\u001b[1;32m<ipython-input-81-2e4a212fe816>\u001b[0m in \u001b[0;36m<module>\u001b[1;34m\u001b[0m\n\u001b[0;32m      2\u001b[0m \u001b[1;31m# Passing \"inplace=False\" will make a copy of the city_data DataFrame, which we call \"clean_city_data\".\u001b[0m\u001b[1;33m\u001b[0m\u001b[1;33m\u001b[0m\u001b[1;33m\u001b[0m\u001b[0m\n\u001b[0;32m      3\u001b[0m \u001b[1;33m\u001b[0m\u001b[0m\n\u001b[1;32m----> 4\u001b[1;33m \u001b[0mcleaned_city_data\u001b[0m \u001b[1;33m=\u001b[0m \u001b[0mcity_data\u001b[0m\u001b[1;33m.\u001b[0m\u001b[0mdrop\u001b[0m\u001b[1;33m[\u001b[0m\u001b[0mindices_100plus_hum\u001b[0m\u001b[1;33m]\u001b[0m\u001b[1;33m\u001b[0m\u001b[1;33m\u001b[0m\u001b[0m\n\u001b[0m",
      "\u001b[1;31mTypeError\u001b[0m: 'method' object is not subscriptable"
     ]
    }
   ],
   "source": [
    "# Make a new DataFrame equal to the city data to drop all humidity outliers by index.\n",
    "# Passing \"inplace=False\" will make a copy of the city_data DataFrame, which we call \"clean_city_data\".\n",
    "\n",
    "cleaned_city_data = city_data.drop[indices_100plus_hum]\n"
   ]
  },
  {
   "cell_type": "code",
   "execution_count": null,
   "metadata": {},
   "outputs": [],
   "source": [
    "# Extract relevant fields from the data frame\n",
    "\n",
    "\n",
    "# Export the City_Data into a csv\n"
   ]
  },
  {
   "cell_type": "markdown",
   "metadata": {},
   "source": [
    "## Plotting the Data\n",
    "* Use proper labeling of the plots using plot titles (including date of analysis) and axes labels.\n",
    "* Save the plotted figures as .pngs."
   ]
  },
  {
   "cell_type": "markdown",
   "metadata": {},
   "source": [
    "## Latitude vs. Temperature Plot"
   ]
  },
  {
   "cell_type": "code",
   "execution_count": null,
   "metadata": {
    "scrolled": true
   },
   "outputs": [],
   "source": []
  },
  {
   "cell_type": "markdown",
   "metadata": {},
   "source": [
    "## Latitude vs. Humidity Plot"
   ]
  },
  {
   "cell_type": "code",
   "execution_count": null,
   "metadata": {},
   "outputs": [],
   "source": []
  },
  {
   "cell_type": "markdown",
   "metadata": {},
   "source": [
    "## Latitude vs. Cloudiness Plot"
   ]
  },
  {
   "cell_type": "code",
   "execution_count": null,
   "metadata": {},
   "outputs": [],
   "source": []
  },
  {
   "cell_type": "markdown",
   "metadata": {},
   "source": [
    "## Latitude vs. Wind Speed Plot"
   ]
  },
  {
   "cell_type": "code",
   "execution_count": null,
   "metadata": {},
   "outputs": [],
   "source": []
  },
  {
   "cell_type": "markdown",
   "metadata": {},
   "source": [
    "## Linear Regression"
   ]
  },
  {
   "cell_type": "code",
   "execution_count": null,
   "metadata": {},
   "outputs": [],
   "source": [
    "# OPTIONAL: Create a function to create Linear Regression plots"
   ]
  },
  {
   "cell_type": "code",
   "execution_count": null,
   "metadata": {},
   "outputs": [],
   "source": [
    "# Create Northern and Southern Hemisphere DataFrames"
   ]
  },
  {
   "cell_type": "markdown",
   "metadata": {},
   "source": [
    "####  Northern Hemisphere - Max Temp vs. Latitude Linear Regression"
   ]
  },
  {
   "cell_type": "code",
   "execution_count": null,
   "metadata": {},
   "outputs": [],
   "source": []
  },
  {
   "cell_type": "markdown",
   "metadata": {},
   "source": [
    "####  Southern Hemisphere - Max Temp vs. Latitude Linear Regression"
   ]
  },
  {
   "cell_type": "code",
   "execution_count": null,
   "metadata": {},
   "outputs": [],
   "source": []
  },
  {
   "cell_type": "markdown",
   "metadata": {},
   "source": [
    "####  Northern Hemisphere - Humidity (%) vs. Latitude Linear Regression"
   ]
  },
  {
   "cell_type": "code",
   "execution_count": null,
   "metadata": {},
   "outputs": [],
   "source": []
  },
  {
   "cell_type": "markdown",
   "metadata": {},
   "source": [
    "####  Southern Hemisphere - Humidity (%) vs. Latitude Linear Regression"
   ]
  },
  {
   "cell_type": "code",
   "execution_count": null,
   "metadata": {},
   "outputs": [],
   "source": []
  },
  {
   "cell_type": "markdown",
   "metadata": {},
   "source": [
    "####  Northern Hemisphere - Cloudiness (%) vs. Latitude Linear Regression"
   ]
  },
  {
   "cell_type": "code",
   "execution_count": null,
   "metadata": {},
   "outputs": [],
   "source": []
  },
  {
   "cell_type": "markdown",
   "metadata": {},
   "source": [
    "####  Southern Hemisphere - Cloudiness (%) vs. Latitude Linear Regression"
   ]
  },
  {
   "cell_type": "code",
   "execution_count": null,
   "metadata": {},
   "outputs": [],
   "source": []
  },
  {
   "cell_type": "markdown",
   "metadata": {},
   "source": [
    "####  Northern Hemisphere - Wind Speed (mph) vs. Latitude Linear Regression"
   ]
  },
  {
   "cell_type": "code",
   "execution_count": null,
   "metadata": {},
   "outputs": [],
   "source": []
  },
  {
   "cell_type": "markdown",
   "metadata": {},
   "source": [
    "####  Southern Hemisphere - Wind Speed (mph) vs. Latitude Linear Regression"
   ]
  },
  {
   "cell_type": "code",
   "execution_count": null,
   "metadata": {},
   "outputs": [],
   "source": []
  },
  {
   "cell_type": "code",
   "execution_count": null,
   "metadata": {},
   "outputs": [],
   "source": []
  }
 ],
 "metadata": {
  "anaconda-cloud": {},
  "kernel_info": {
   "name": "python3"
  },
  "kernelspec": {
   "display_name": "Python 3",
   "language": "python",
   "name": "python3"
  },
  "language_info": {
   "codemirror_mode": {
    "name": "ipython",
    "version": 3
   },
   "file_extension": ".py",
   "mimetype": "text/x-python",
   "name": "python",
   "nbconvert_exporter": "python",
   "pygments_lexer": "ipython3",
   "version": "3.7.6"
  },
  "latex_envs": {
   "LaTeX_envs_menu_present": true,
   "autoclose": false,
   "autocomplete": true,
   "bibliofile": "biblio.bib",
   "cite_by": "apalike",
   "current_citInitial": 1,
   "eqLabelWithNumbers": true,
   "eqNumInitial": 1,
   "hotkeys": {
    "equation": "Ctrl-E",
    "itemize": "Ctrl-I"
   },
   "labels_anchors": false,
   "latex_user_defs": false,
   "report_style_numbering": false,
   "user_envs_cfg": false
  },
  "nteract": {
   "version": "0.12.3"
  }
 },
 "nbformat": 4,
 "nbformat_minor": 2
}
