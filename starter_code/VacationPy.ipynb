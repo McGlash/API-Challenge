{
 "cells": [
  {
   "cell_type": "markdown",
   "metadata": {},
   "source": [
    "# VacationPy\n",
    "----\n",
    "The following displays the following using google's maps javascript api (https://developers.google.com/maps/documentation/javascript):\n",
    "\n",
    "*the humidity (%) of cities considered in the weather analysis displayed as a heat map; and\n",
    "\n",
    "*hotels in cities with ideal weather conditions "
   ]
  },
  {
   "cell_type": "code",
   "execution_count": 1,
   "metadata": {},
   "outputs": [],
   "source": [
    "# Dependencies and Setup\n",
    "import matplotlib.pyplot as plt\n",
    "import pandas as pd\n",
    "import numpy as np\n",
    "import requests\n",
    "import gmaps\n",
    "import os\n",
    "import gmaps.datasets\n",
    "\n",
    "# Import API key\n",
    "from api_keys import g_key"
   ]
  },
  {
   "cell_type": "markdown",
   "metadata": {},
   "source": [
    "### Store Part I results into DataFrame\n"
   ]
  },
  {
   "cell_type": "code",
   "execution_count": 2,
   "metadata": {},
   "outputs": [
    {
     "data": {
      "text/html": [
       "<div>\n",
       "<style scoped>\n",
       "    .dataframe tbody tr th:only-of-type {\n",
       "        vertical-align: middle;\n",
       "    }\n",
       "\n",
       "    .dataframe tbody tr th {\n",
       "        vertical-align: top;\n",
       "    }\n",
       "\n",
       "    .dataframe thead th {\n",
       "        text-align: right;\n",
       "    }\n",
       "</style>\n",
       "<table border=\"1\" class=\"dataframe\">\n",
       "  <thead>\n",
       "    <tr style=\"text-align: right;\">\n",
       "      <th></th>\n",
       "      <th>City</th>\n",
       "      <th>Lat</th>\n",
       "      <th>Lng</th>\n",
       "      <th>Max Temperature (F)</th>\n",
       "      <th>Humidity (%)</th>\n",
       "      <th>Cloudiness (%)</th>\n",
       "      <th>Wind Speed (mph)</th>\n",
       "      <th>Country</th>\n",
       "      <th>Datetime</th>\n",
       "    </tr>\n",
       "    <tr>\n",
       "      <th>City_ID</th>\n",
       "      <th></th>\n",
       "      <th></th>\n",
       "      <th></th>\n",
       "      <th></th>\n",
       "      <th></th>\n",
       "      <th></th>\n",
       "      <th></th>\n",
       "      <th></th>\n",
       "      <th></th>\n",
       "    </tr>\n",
       "  </thead>\n",
       "  <tbody>\n",
       "    <tr>\n",
       "      <th>0</th>\n",
       "      <td>Albany</td>\n",
       "      <td>42.60</td>\n",
       "      <td>-73.97</td>\n",
       "      <td>79.00</td>\n",
       "      <td>66</td>\n",
       "      <td>12</td>\n",
       "      <td>3.04</td>\n",
       "      <td>US</td>\n",
       "      <td>1592577607</td>\n",
       "    </tr>\n",
       "    <tr>\n",
       "      <th>1</th>\n",
       "      <td>Jamestown</td>\n",
       "      <td>42.10</td>\n",
       "      <td>-79.24</td>\n",
       "      <td>75.00</td>\n",
       "      <td>73</td>\n",
       "      <td>40</td>\n",
       "      <td>4.70</td>\n",
       "      <td>US</td>\n",
       "      <td>1592577743</td>\n",
       "    </tr>\n",
       "    <tr>\n",
       "      <th>2</th>\n",
       "      <td>Mataura</td>\n",
       "      <td>-46.19</td>\n",
       "      <td>168.86</td>\n",
       "      <td>39.00</td>\n",
       "      <td>83</td>\n",
       "      <td>100</td>\n",
       "      <td>3.00</td>\n",
       "      <td>NZ</td>\n",
       "      <td>1592577743</td>\n",
       "    </tr>\n",
       "    <tr>\n",
       "      <th>3</th>\n",
       "      <td>Barrow</td>\n",
       "      <td>71.29</td>\n",
       "      <td>-156.79</td>\n",
       "      <td>35.60</td>\n",
       "      <td>93</td>\n",
       "      <td>90</td>\n",
       "      <td>12.75</td>\n",
       "      <td>US</td>\n",
       "      <td>1592577743</td>\n",
       "    </tr>\n",
       "    <tr>\n",
       "      <th>4</th>\n",
       "      <td>Klaksvík</td>\n",
       "      <td>62.23</td>\n",
       "      <td>-6.59</td>\n",
       "      <td>57.20</td>\n",
       "      <td>71</td>\n",
       "      <td>84</td>\n",
       "      <td>9.17</td>\n",
       "      <td>FO</td>\n",
       "      <td>1592577744</td>\n",
       "    </tr>\n",
       "    <tr>\n",
       "      <th>...</th>\n",
       "      <td>...</td>\n",
       "      <td>...</td>\n",
       "      <td>...</td>\n",
       "      <td>...</td>\n",
       "      <td>...</td>\n",
       "      <td>...</td>\n",
       "      <td>...</td>\n",
       "      <td>...</td>\n",
       "      <td>...</td>\n",
       "    </tr>\n",
       "    <tr>\n",
       "      <th>565</th>\n",
       "      <td>Port Shepstone</td>\n",
       "      <td>-30.74</td>\n",
       "      <td>30.45</td>\n",
       "      <td>66.47</td>\n",
       "      <td>71</td>\n",
       "      <td>0</td>\n",
       "      <td>18.39</td>\n",
       "      <td>ZA</td>\n",
       "      <td>1592578811</td>\n",
       "    </tr>\n",
       "    <tr>\n",
       "      <th>566</th>\n",
       "      <td>Lhokseumawe</td>\n",
       "      <td>5.18</td>\n",
       "      <td>97.15</td>\n",
       "      <td>80.06</td>\n",
       "      <td>78</td>\n",
       "      <td>85</td>\n",
       "      <td>4.52</td>\n",
       "      <td>ID</td>\n",
       "      <td>1592578787</td>\n",
       "    </tr>\n",
       "    <tr>\n",
       "      <th>567</th>\n",
       "      <td>Corvallis</td>\n",
       "      <td>44.56</td>\n",
       "      <td>-123.26</td>\n",
       "      <td>64.99</td>\n",
       "      <td>100</td>\n",
       "      <td>1</td>\n",
       "      <td>1.86</td>\n",
       "      <td>US</td>\n",
       "      <td>1592578701</td>\n",
       "    </tr>\n",
       "    <tr>\n",
       "      <th>568</th>\n",
       "      <td>Akureyri</td>\n",
       "      <td>65.68</td>\n",
       "      <td>-18.09</td>\n",
       "      <td>57.20</td>\n",
       "      <td>58</td>\n",
       "      <td>20</td>\n",
       "      <td>10.29</td>\n",
       "      <td>IS</td>\n",
       "      <td>1592578815</td>\n",
       "    </tr>\n",
       "    <tr>\n",
       "      <th>569</th>\n",
       "      <td>Ibanda</td>\n",
       "      <td>-2.80</td>\n",
       "      <td>32.47</td>\n",
       "      <td>78.80</td>\n",
       "      <td>54</td>\n",
       "      <td>20</td>\n",
       "      <td>8.05</td>\n",
       "      <td>TZ</td>\n",
       "      <td>1592578816</td>\n",
       "    </tr>\n",
       "  </tbody>\n",
       "</table>\n",
       "<p>570 rows × 9 columns</p>\n",
       "</div>"
      ],
      "text/plain": [
       "                   City    Lat     Lng  Max Temperature (F)  Humidity (%)  \\\n",
       "City_ID                                                                     \n",
       "0                Albany  42.60  -73.97                79.00            66   \n",
       "1             Jamestown  42.10  -79.24                75.00            73   \n",
       "2               Mataura -46.19  168.86                39.00            83   \n",
       "3                Barrow  71.29 -156.79                35.60            93   \n",
       "4              Klaksvík  62.23   -6.59                57.20            71   \n",
       "...                 ...    ...     ...                  ...           ...   \n",
       "565      Port Shepstone -30.74   30.45                66.47            71   \n",
       "566         Lhokseumawe   5.18   97.15                80.06            78   \n",
       "567           Corvallis  44.56 -123.26                64.99           100   \n",
       "568            Akureyri  65.68  -18.09                57.20            58   \n",
       "569              Ibanda  -2.80   32.47                78.80            54   \n",
       "\n",
       "         Cloudiness (%)  Wind Speed (mph) Country    Datetime  \n",
       "City_ID                                                        \n",
       "0                    12              3.04      US  1592577607  \n",
       "1                    40              4.70      US  1592577743  \n",
       "2                   100              3.00      NZ  1592577743  \n",
       "3                    90             12.75      US  1592577743  \n",
       "4                    84              9.17      FO  1592577744  \n",
       "...                 ...               ...     ...         ...  \n",
       "565                   0             18.39      ZA  1592578811  \n",
       "566                  85              4.52      ID  1592578787  \n",
       "567                   1              1.86      US  1592578701  \n",
       "568                  20             10.29      IS  1592578815  \n",
       "569                  20              8.05      TZ  1592578816  \n",
       "\n",
       "[570 rows x 9 columns]"
      ]
     },
     "execution_count": 2,
     "metadata": {},
     "output_type": "execute_result"
    }
   ],
   "source": [
    "#load data\n",
    "\n",
    "input_path = \"../output_data/cities.csv\"\n",
    "\n",
    "data =pd.read_csv(input_path, delimiter=\",\", index_col=\"City_ID\")\n",
    "\n",
    "data"
   ]
  },
  {
   "cell_type": "markdown",
   "metadata": {},
   "source": [
    "### Humidity Heatmap\n",
    "\n",
    ">Configure gmaps.\n",
    "\n",
    ">Use the Lat and Lng as locations and Humidity as the weight.\n",
    "\n",
    ">Add Heatmap layer to map."
   ]
  },
  {
   "cell_type": "code",
   "execution_count": 3,
   "metadata": {},
   "outputs": [
    {
     "data": {
      "application/vnd.jupyter.widget-view+json": {
       "model_id": "f3d39706a81d4a0396da6e5e9b784f8c",
       "version_major": 2,
       "version_minor": 0
      },
      "text/plain": [
       "Figure(layout=FigureLayout(border='1px solid black', height='500px', margin='0 auto 0 auto', padding='1px', wi…"
      ]
     },
     "metadata": {},
     "output_type": "display_data"
    }
   ],
   "source": [
    "#setup \n",
    "\n",
    "    #configure gmaps\n",
    "gmaps.configure(api_key = g_key)\n",
    "\n",
    "coord = data[[\"Lat\", \"Lng\"]]\n",
    "\n",
    "weights = data[\"Humidity (%)\"]\n",
    "\n",
    "    #format display\n",
    "figure_layout = {\n",
    "    \"width\": '500px',\n",
    "    \"height\": '500px',\n",
    "    \"border\": '1px solid black',\n",
    "    \"padding\": '1px',\n",
    "    \"margin\": '0 auto 0 auto'}\n",
    "\n",
    "\n",
    "# set max intensity\n",
    "    #create and display fig\n",
    "hum_fig = gmaps.figure(layout=figure_layout)\n",
    "heatmap_layer = gmaps.heatmap_layer(coord, weights=weights)\n",
    "hum_fig.add_layer(heatmap_layer)\n",
    "\n",
    "#set max intensity\n",
    "heatmap_layer.max_intensity = data[\"Humidity (%)\"].max()\n",
    "\n",
    "\n",
    "#display\n",
    "hum_fig"
   ]
  },
  {
   "cell_type": "markdown",
   "metadata": {},
   "source": [
    "### Create new DataFrame fitting weather criteria\n",
    "\n",
    ">Narrow down the cities to fit weather conditions.\n",
    "\n",
    ">Drop any rows will null values."
   ]
  },
  {
   "cell_type": "code",
   "execution_count": 4,
   "metadata": {},
   "outputs": [
    {
     "name": "stdout",
     "output_type": "stream",
     "text": [
      "\n",
      "no. of cities in original dataset: 17\n",
      "\n",
      "no. of cities in cleaned dataset: 15\n"
     ]
    }
   ],
   "source": [
    "#select data: A max temperature lower than 80 degrees but higher than 70; \n",
    "#wind speed of less than 10 mph; and humidity less than 50%\n",
    "\n",
    "narrowed_data = data.loc[(data[\"Max Temperature (F)\"]>68) &\n",
    "                         (data[\"Max Temperature (F)\"]<80) &\n",
    "                         (data[\"Humidity (%)\"]<50) &\n",
    "                         (data[\"Cloudiness (%)\"]<10),:]\n",
    "\n",
    "#identify null values\n",
    "\n",
    "print(f'\\nno. of cities in original dataset: {len(narrowed_data[\"City\"])}')\n",
    "\n",
    "    #identify null rows: unique = 2\n",
    "\n",
    "null = narrowed_data.notnull()\n",
    "\n",
    "    #identify rows with nulls\n",
    "IDs = null.loc[null[\"Country\"]==False, :].index.tolist()\n",
    "\n",
    "    #drop rows with nulls\n",
    "cleaned_data= narrowed_data.drop(IDs, inplace=False)\n",
    "\n",
    "    #verify\n",
    "print(f'\\nno. of cities in cleaned dataset: {len(cleaned_data[\"City\"])}')"
   ]
  },
  {
   "cell_type": "markdown",
   "metadata": {},
   "source": [
    "### Hotel Map\n",
    "\n",
    ">Store into variable named hotel_df.\n",
    "\n",
    ">Add a \"Hotel Name\" column to the DataFrame.\n",
    "\n",
    ">Set parameters to search for hotels with 5000 meters.\n",
    "\n",
    ">Hit the Google Places API for each city's coordinates.\n",
    "\n",
    ">Store the first Hotel result into the DataFrame.\n",
    "\n",
    ">Plot markers on top of the heatmap."
   ]
  },
  {
   "cell_type": "code",
   "execution_count": 5,
   "metadata": {},
   "outputs": [],
   "source": [
    "#setup list\n",
    "\n",
    "name = []\n",
    "\n",
    "# set up a parameters\n",
    "\n",
    "for index, row in cleaned_data.iterrows():\n",
    "    \n",
    "    parameters = {\"location\": f'{row[\"Lat\"]},{row[\"Lng\"]}',\n",
    "                    \"keyword\":\"hotel\",\n",
    "                    \"radius\": 5000,\n",
    "                    \"type\": \"establishment\",\n",
    "                    \"key\": g_key}\n",
    "\n",
    "    # base url\n",
    "    base_url = \"https://maps.googleapis.com/maps/api/place/nearbysearch/json\"\n",
    "\n",
    "    # run a request using our params dictionary\n",
    "    response = requests.get(base_url, params=parameters)\n",
    "    \n",
    "    #append name to list\n",
    "    try:\n",
    "        name.append(response.json()[\"results\"][0][\"name\"])\n",
    "    except:\n",
    "        name.append(\"no hotel\")\n",
    "    "
   ]
  },
  {
   "cell_type": "code",
   "execution_count": 6,
   "metadata": {},
   "outputs": [
    {
     "data": {
      "text/plain": [
       "15"
      ]
     },
     "execution_count": 6,
     "metadata": {},
     "output_type": "execute_result"
    }
   ],
   "source": [
    "#verify output\n",
    "len(name)"
   ]
  },
  {
   "cell_type": "code",
   "execution_count": 7,
   "metadata": {},
   "outputs": [
    {
     "name": "stdout",
     "output_type": "stream",
     "text": [
      "no duplicates\n"
     ]
    }
   ],
   "source": [
    "#merge hotels back to original df\n",
    "cleaned_data[\"Hotel\"] = name\n",
    "\n",
    "#remove cities without hotels\n",
    "hotel_df = cleaned_data.loc[cleaned_data[\"Hotel\"] != \"no hotel\", :]\n",
    "\n",
    "#verify that there are not nulls in the dataset: unique =1\n",
    "if sum(hotel_df.notnull().nunique()) ==10:\n",
    "    print(\"no duplicates\")\n",
    "\n",
    "else:\n",
    "    print(\"remove duplicates before proceeding\")"
   ]
  },
  {
   "cell_type": "code",
   "execution_count": 8,
   "metadata": {},
   "outputs": [],
   "source": [
    "# NOTE: Do not change any of the code in this cell\n",
    "\n",
    "# Using the template add the hotel marks to the heatmap\n",
    "info_box_template = \"\"\"\n",
    "<dl>\n",
    "<dt>Name</dt><dd>{Hotel}</dd>\n",
    "<dt>City</dt><dd>{City}</dd>\n",
    "<dt>Country</dt><dd>{Country}</dd>\n",
    "</dl>\n",
    "\"\"\"\n",
    "# Store the DataFrame Row\n",
    "# NOTE: be sure to update with your DataFrame name\n",
    "hotel_info = [info_box_template.format(**row) for index, row in hotel_df.iterrows()]\n",
    "locations = hotel_df[[\"Lat\", \"Lng\"]]"
   ]
  },
  {
   "cell_type": "code",
   "execution_count": 9,
   "metadata": {},
   "outputs": [
    {
     "data": {
      "application/vnd.jupyter.widget-view+json": {
       "model_id": "f3d39706a81d4a0396da6e5e9b784f8c",
       "version_major": 2,
       "version_minor": 0
      },
      "text/plain": [
       "Figure(layout=FigureLayout(border='1px solid black', height='500px', margin='0 auto 0 auto', padding='1px', wi…"
      ]
     },
     "metadata": {},
     "output_type": "display_data"
    }
   ],
   "source": [
    "# Add marker layer ontop of heat map\n",
    "\n",
    "hum_fig.add_layer(gmaps.marker_layer(locations, info_box_content=hotel_info))\n",
    "\n",
    "# Display figure\n",
    "hum_fig"
   ]
  }
 ],
 "metadata": {
  "kernelspec": {
   "display_name": "Python 3",
   "language": "python",
   "name": "python3"
  },
  "language_info": {
   "codemirror_mode": {
    "name": "ipython",
    "version": 3
   },
   "file_extension": ".py",
   "mimetype": "text/x-python",
   "name": "python",
   "nbconvert_exporter": "python",
   "pygments_lexer": "ipython3",
   "version": "3.7.6"
  },
  "latex_envs": {
   "LaTeX_envs_menu_present": true,
   "autoclose": false,
   "autocomplete": true,
   "bibliofile": "biblio.bib",
   "cite_by": "apalike",
   "current_citInitial": 1,
   "eqLabelWithNumbers": true,
   "eqNumInitial": 1,
   "hotkeys": {
    "equation": "Ctrl-E",
    "itemize": "Ctrl-I"
   },
   "labels_anchors": false,
   "latex_user_defs": false,
   "report_style_numbering": false,
   "user_envs_cfg": false
  }
 },
 "nbformat": 4,
 "nbformat_minor": 2
}
